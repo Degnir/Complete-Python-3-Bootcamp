{
 "cells": [
  {
   "cell_type": "code",
   "execution_count": 1,
   "metadata": {},
   "outputs": [],
   "source": [
    "from IPython.display import clear_output\n",
    "import random"
   ]
  },
  {
   "cell_type": "code",
   "execution_count": 2,
   "metadata": {},
   "outputs": [],
   "source": [
    "rowempty = \"   |   |   \"\n",
    "row = \" {0} | {1} | {2} \"\n",
    "lines = \"-----------\""
   ]
  },
  {
   "cell_type": "code",
   "execution_count": 3,
   "metadata": {},
   "outputs": [],
   "source": [
    "def display_board(board):\n",
    "    clear_output()\n",
    "    print(rowempty)\n",
    "    print(row.format(board[1],board[2],board[3]))\n",
    "    print(rowempty)\n",
    "    print(lines)\n",
    "    print(rowempty)\n",
    "    print(row.format(board[4],board[5],board[6]))\n",
    "    print(rowempty)\n",
    "    print(lines)\n",
    "    print(rowempty)\n",
    "    print(row.format(board[7],board[8],board[9]))\n",
    "    print(rowempty)"
   ]
  },
  {
   "cell_type": "code",
   "execution_count": 4,
   "metadata": {},
   "outputs": [],
   "source": [
    "def player_input():\n",
    "    choice = ['X' , 'O']\n",
    "    result = ' '\n",
    "    while result not in choice:\n",
    "        result = input(\"Player1: Choose X or O: \").upper()\n",
    "        if result not in choice:\n",
    "            print(\"Not a valid choice\")\n",
    "            \n",
    "    if result == 'X':\n",
    "        return ['X', 'O']\n",
    "    else:\n",
    "        return ['O', 'X']"
   ]
  },
  {
   "cell_type": "code",
   "execution_count": 5,
   "metadata": {},
   "outputs": [],
   "source": [
    "def player_input_number():\n",
    "    choice = 'wrong'\n",
    "    while True:\n",
    "        try:\n",
    "            choice = int(input(\"Choose your next position: (1-9): \"))\n",
    "        except ValueError:\n",
    "            print(\"Not an integer!\")\n",
    "            continue\n",
    "        else:\n",
    "            if choice in range(1,10):\n",
    "                break\n",
    "            else:\n",
    "                print(\"Choose valid position\")\n",
    "    return choice"
   ]
  },
  {
   "cell_type": "code",
   "execution_count": 6,
   "metadata": {},
   "outputs": [],
   "source": [
    "def place_marker(board, marker, position):\n",
    "    board[position] = marker\n",
    "    return board"
   ]
  },
  {
   "cell_type": "code",
   "execution_count": 7,
   "metadata": {},
   "outputs": [],
   "source": [
    "def win_check(board, mark):\n",
    "    win_pattern = [mark, mark, mark]\n",
    "    row1 = board[1:4]\n",
    "    row2 = board[4:7]\n",
    "    row3 = board[7:10]\n",
    "    \n",
    "    for row in range(4,10,3):\n",
    "        if(board[row:row+3] == win_pattern): #Check row\n",
    "            return True\n",
    "        \n",
    "    for c in range(0, 3):\n",
    "        if([row1[c],row2[c],row3[c]] == win_pattern): #Check columns\n",
    "            return True\n",
    "\n",
    "    if([row1[0],row2[1],row3[2]] == win_pattern) or ([row1[2],row2[1],row3[0]] == win_pattern): #Check diagonals\n",
    "            return True\n",
    "        \n",
    "    return False"
   ]
  },
  {
   "cell_type": "code",
   "execution_count": 8,
   "metadata": {},
   "outputs": [],
   "source": [
    "def choose_first():\n",
    "    if random.randint(0,1) == 0:\n",
    "        return (\"Player 1\", 0)\n",
    "    \n",
    "    return (\"Player 2\", 1)"
   ]
  },
  {
   "cell_type": "code",
   "execution_count": 9,
   "metadata": {},
   "outputs": [],
   "source": [
    "def space_check(board, position):\n",
    "    if (board[position] == ' '):\n",
    "        return True\n",
    "    return False"
   ]
  },
  {
   "cell_type": "code",
   "execution_count": 10,
   "metadata": {},
   "outputs": [],
   "source": [
    "def full_board_check(board):\n",
    "    if ' ' in board:\n",
    "        return False\n",
    "    return True"
   ]
  },
  {
   "cell_type": "code",
   "execution_count": 11,
   "metadata": {},
   "outputs": [],
   "source": [
    "def player_choice(board):\n",
    "    is_valid = False\n",
    "    while not is_valid:\n",
    "        choice = player_input_number()\n",
    "        is_valid = space_check(board, choice)\n",
    "        if not is_valid:\n",
    "            print(\"This position is not free, choose new one\")\n",
    "        \n",
    "    return choice"
   ]
  },
  {
   "cell_type": "code",
   "execution_count": 12,
   "metadata": {},
   "outputs": [],
   "source": [
    "def replay():\n",
    "    choice = ['Y', 'N']\n",
    "    result = ' '\n",
    "    while result not in choice:\n",
    "        result = input('Do you want to play again?: (Y, N): ')\n",
    "        if result not in choice:\n",
    "            print('This is not valid input')\n",
    "    \n",
    "    return result == 'Y'"
   ]
  },
  {
   "cell_type": "code",
   "execution_count": 13,
   "metadata": {},
   "outputs": [
    {
     "name": "stdout",
     "output_type": "stream",
     "text": [
      "   |   |   \n",
      " X | O | X \n",
      "   |   |   \n",
      "-----------\n",
      "   |   |   \n",
      " O | X | O \n",
      "   |   |   \n",
      "-----------\n",
      "   |   |   \n",
      " X |   |   \n",
      "   |   |   \n",
      "X Wins!\n",
      "O turn\n",
      "Do you want to play again?: (Y, N): 8\n",
      "This is not valid input\n",
      "Do you want to play again?: (Y, N): N\n"
     ]
    }
   ],
   "source": [
    "print('Welcome to Tic Tac Toe!')\n",
    "while True:\n",
    "    board = [' '] * 10\n",
    "    game_on = True\n",
    "    markers = player_input()\n",
    "    \n",
    "    player, turn = choose_first()\n",
    "    print(f'{player} starts first with: {markers[turn]}')\n",
    "\n",
    "    while game_on:\n",
    "        choice = player_choice(board)\n",
    "        \n",
    "        board = place_marker(board, markers[turn], choice)\n",
    "\n",
    "        display_board(board)\n",
    "        \n",
    "        if(win_check(board, markers[turn])):\n",
    "            print(f'{markers[turn]} Wins!')\n",
    "            game_on = False\n",
    "        \n",
    "        if(full_board_check(board)):\n",
    "            print(f'Board is Full its a Tie!')\n",
    "            game_on = False\n",
    "        \n",
    "        if (turn == 0):\n",
    "            turn = 1\n",
    "        else:\n",
    "            turn = 0\n",
    "        print(f'{markers[turn]} turn')\n",
    "\n",
    "    if not replay():\n",
    "        break"
   ]
  },
  {
   "cell_type": "code",
   "execution_count": null,
   "metadata": {},
   "outputs": [],
   "source": []
  },
  {
   "cell_type": "code",
   "execution_count": null,
   "metadata": {},
   "outputs": [],
   "source": []
  }
 ],
 "metadata": {
  "kernelspec": {
   "display_name": "Python 3",
   "language": "python",
   "name": "python3"
  },
  "language_info": {
   "codemirror_mode": {
    "name": "ipython",
    "version": 3
   },
   "file_extension": ".py",
   "mimetype": "text/x-python",
   "name": "python",
   "nbconvert_exporter": "python",
   "pygments_lexer": "ipython3",
   "version": "3.8.5"
  }
 },
 "nbformat": 4,
 "nbformat_minor": 4
}
